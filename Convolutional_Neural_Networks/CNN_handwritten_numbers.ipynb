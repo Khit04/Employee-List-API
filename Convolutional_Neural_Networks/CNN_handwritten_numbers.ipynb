{
  "cells": [
    {
      "cell_type": "markdown",
      "metadata": {
        "id": "oUKEZ2zlSu_4"
      },
      "source": [
        "# __Convolutional Neural Networks: Handwriting Recognition__\n",
        "---\n",
        "\n",
        "In this session we will learn how to create and train from scratch a [Convolutional Neural Network (CNN)](https://en.wikipedia.org/wiki/Convolutional_neural_network) that is able to recognize handwritten numbers. This is a typical problem in Handwriting Recognition (HWR) that has many applications in our current society, from being able to transcript text from phones and tablets to quickly scan and digitize old documents. HWR software is also widely used in all kind of administrative procedures, for example when we are asked to fill a from manually writing the letters and numbers in single-letter boxes, so the information in the document can be effectively and quickly gathered.\n",
        "\n",
        "The HWR is a problem that has been studied for decades. Back in 1974 [Ray Kurzweil](https://en.wikipedia.org/wiki/Ray_Kurzweil) commercialised the first software able to recognize characters in multiple fonts. That pioneer software hardcoded the extraction of manually selected features of the different symbols. But in 1989 [Yann LeCun](https://en.wikipedia.org/wiki/Yann_LeCun) applied the back-propagation algorithm to the recently conceived CNNs, thus creating the [LeNet](https://en.wikipedia.org/wiki/LeNet). This new CNN, trained on the [MNIST](http://yann.lecun.com/exdb/mnist/) database, automated the process of the feature extraction increasing substantially the performance for recognising handwritten digits. The software, with an incredible error rate of only 1%, would ended up being used by the US Postal Service ([here](https://www.youtube.com/watch?v=FwFduRA_L6Q) is a nice demo at the time). In 2011 [a team of computer scientists achieved an astonoshing 99.73% accuracy rate](https://ieeexplore.ieee.org/document/6065487), comparable to human performance. Read [this](https://towardsdatascience.com/https-medium-com-rachelwiles-have-we-solved-the-problem-of-handwriting-recognition-712e279f373b) interesting post from \"towards data science\" blog for more details.\n",
        "\n",
        "In this lab, we are going to use the very same old MNIST dataset to recognise handwritten digits, but with nowadays much faster computers. The theoretical concepts we are going to manage here are on the [Deep Learning section](https://moodle.essex.ac.uk/course/view.php?id=15076&section=7) of the Moodle page. Make sure you are familiar with them.\n"
      ]
    },
    {
      "cell_type": "markdown",
      "metadata": {
        "id": "PAsyzPQ7Su_6"
      },
      "source": [
        "## The Dataset\n",
        "---\n",
        "The MNIST dataset is one of the built-in datasets in keras library that we can easily import without having to download and structure the dataset. We can split the content in four variables for easily handling the data throughout our code."
      ]
    },
    {
      "cell_type": "code",
      "execution_count": 1,
      "metadata": {
        "id": "OH7VTcfmSu_6",
        "outputId": "58fbca2a-80a1-4fbf-cf1d-a13bd3bf7bc7",
        "colab": {
          "base_uri": "https://localhost:8080/"
        }
      },
      "outputs": [
        {
          "output_type": "stream",
          "name": "stdout",
          "text": [
            "Downloading data from https://storage.googleapis.com/tensorflow/tf-keras-datasets/mnist.npz\n",
            "\u001b[1m11490434/11490434\u001b[0m \u001b[32m━━━━━━━━━━━━━━━━━━━━\u001b[0m\u001b[37m\u001b[0m \u001b[1m2s\u001b[0m 0us/step\n"
          ]
        }
      ],
      "source": [
        "from tensorflow.keras.datasets import mnist\n",
        "(trainX, trainY), (testX, testY) = mnist.load_data()"
      ]
    },
    {
      "cell_type": "markdown",
      "metadata": {
        "id": "5PRgSQEKSu_7"
      },
      "source": [
        "trainX and testX contain the 60000 images for training and 10000 for testing respectively, and trainy and testy contain its corresponding labels, 0-9 integers, in a vector. We can observe the specific format of the variables by checking its .shape attribute."
      ]
    },
    {
      "cell_type": "code",
      "execution_count": 2,
      "metadata": {
        "id": "yjXtMxpxSu_7",
        "outputId": "3e9cde05-bf00-4c21-a077-d2b3b6e6c6d6",
        "colab": {
          "base_uri": "https://localhost:8080/"
        }
      },
      "outputs": [
        {
          "output_type": "stream",
          "name": "stdout",
          "text": [
            "Train: X=(60000, 28, 28), y=(60000,)\n",
            "Test: X=(10000, 28, 28), y=(10000,)\n"
          ]
        }
      ],
      "source": [
        "print('Train: X=%s, y=%s' % (trainX.shape, trainY.shape))\n",
        "print('Test: X=%s, y=%s' % (testX.shape, testY.shape))"
      ]
    },
    {
      "cell_type": "markdown",
      "metadata": {
        "id": "Dv3ac6ThSu_8"
      },
      "source": [
        "It is important that we understand that we are operating with images of 28x28 pixels. As anything inside computers, images are a collection of numbers structured in a particular way. Normally each pixel has three values from 0 to 255 for each RGB channel. However, in this case as the images are greyscaled for each pixels we have one value from 0 (black) to 255 (white). For one image, we have a 28x28 tuple, i.e. a vector of 28 vectors where each inner vector represents a row of pixels. We can see the whole object by printing the first element."
      ]
    },
    {
      "cell_type": "code",
      "execution_count": 3,
      "metadata": {
        "id": "2ZgARv6KSu_8",
        "outputId": "97e9aff8-a3ed-4926-ea66-6df39a1e350d",
        "colab": {
          "base_uri": "https://localhost:8080/"
        }
      },
      "outputs": [
        {
          "output_type": "stream",
          "name": "stdout",
          "text": [
            "[[  0   0   0   0   0   0   0   0   0   0   0   0   0   0   0   0   0   0\n",
            "    0   0   0   0   0   0   0   0   0   0]\n",
            " [  0   0   0   0   0   0   0   0   0   0   0   0   0   0   0   0   0   0\n",
            "    0   0   0   0   0   0   0   0   0   0]\n",
            " [  0   0   0   0   0   0   0   0   0   0   0   0   0   0   0   0   0   0\n",
            "    0   0   0   0   0   0   0   0   0   0]\n",
            " [  0   0   0   0   0   0   0   0   0   0   0   0   0   0   0   0   0   0\n",
            "    0   0   0   0   0   0   0   0   0   0]\n",
            " [  0   0   0   0   0   0   0   0   0   0   0   0   0   0   0   0   0   0\n",
            "    0   0   0   0   0   0   0   0   0   0]\n",
            " [  0   0   0   0   0   0   0   0   0   0   0   0   3  18  18  18 126 136\n",
            "  175  26 166 255 247 127   0   0   0   0]\n",
            " [  0   0   0   0   0   0   0   0  30  36  94 154 170 253 253 253 253 253\n",
            "  225 172 253 242 195  64   0   0   0   0]\n",
            " [  0   0   0   0   0   0   0  49 238 253 253 253 253 253 253 253 253 251\n",
            "   93  82  82  56  39   0   0   0   0   0]\n",
            " [  0   0   0   0   0   0   0  18 219 253 253 253 253 253 198 182 247 241\n",
            "    0   0   0   0   0   0   0   0   0   0]\n",
            " [  0   0   0   0   0   0   0   0  80 156 107 253 253 205  11   0  43 154\n",
            "    0   0   0   0   0   0   0   0   0   0]\n",
            " [  0   0   0   0   0   0   0   0   0  14   1 154 253  90   0   0   0   0\n",
            "    0   0   0   0   0   0   0   0   0   0]\n",
            " [  0   0   0   0   0   0   0   0   0   0   0 139 253 190   2   0   0   0\n",
            "    0   0   0   0   0   0   0   0   0   0]\n",
            " [  0   0   0   0   0   0   0   0   0   0   0  11 190 253  70   0   0   0\n",
            "    0   0   0   0   0   0   0   0   0   0]\n",
            " [  0   0   0   0   0   0   0   0   0   0   0   0  35 241 225 160 108   1\n",
            "    0   0   0   0   0   0   0   0   0   0]\n",
            " [  0   0   0   0   0   0   0   0   0   0   0   0   0  81 240 253 253 119\n",
            "   25   0   0   0   0   0   0   0   0   0]\n",
            " [  0   0   0   0   0   0   0   0   0   0   0   0   0   0  45 186 253 253\n",
            "  150  27   0   0   0   0   0   0   0   0]\n",
            " [  0   0   0   0   0   0   0   0   0   0   0   0   0   0   0  16  93 252\n",
            "  253 187   0   0   0   0   0   0   0   0]\n",
            " [  0   0   0   0   0   0   0   0   0   0   0   0   0   0   0   0   0 249\n",
            "  253 249  64   0   0   0   0   0   0   0]\n",
            " [  0   0   0   0   0   0   0   0   0   0   0   0   0   0  46 130 183 253\n",
            "  253 207   2   0   0   0   0   0   0   0]\n",
            " [  0   0   0   0   0   0   0   0   0   0   0   0  39 148 229 253 253 253\n",
            "  250 182   0   0   0   0   0   0   0   0]\n",
            " [  0   0   0   0   0   0   0   0   0   0  24 114 221 253 253 253 253 201\n",
            "   78   0   0   0   0   0   0   0   0   0]\n",
            " [  0   0   0   0   0   0   0   0  23  66 213 253 253 253 253 198  81   2\n",
            "    0   0   0   0   0   0   0   0   0   0]\n",
            " [  0   0   0   0   0   0  18 171 219 253 253 253 253 195  80   9   0   0\n",
            "    0   0   0   0   0   0   0   0   0   0]\n",
            " [  0   0   0   0  55 172 226 253 253 253 253 244 133  11   0   0   0   0\n",
            "    0   0   0   0   0   0   0   0   0   0]\n",
            " [  0   0   0   0 136 253 253 253 212 135 132  16   0   0   0   0   0   0\n",
            "    0   0   0   0   0   0   0   0   0   0]\n",
            " [  0   0   0   0   0   0   0   0   0   0   0   0   0   0   0   0   0   0\n",
            "    0   0   0   0   0   0   0   0   0   0]\n",
            " [  0   0   0   0   0   0   0   0   0   0   0   0   0   0   0   0   0   0\n",
            "    0   0   0   0   0   0   0   0   0   0]\n",
            " [  0   0   0   0   0   0   0   0   0   0   0   0   0   0   0   0   0   0\n",
            "    0   0   0   0   0   0   0   0   0   0]]\n"
          ]
        }
      ],
      "source": [
        "print(trainX[0])"
      ]
    },
    {
      "cell_type": "markdown",
      "metadata": {
        "id": "b7GPADgsSu_9"
      },
      "source": [
        "In case we want to see the corresponding image we can directly use the imshow() function from the matplotlib library. Let's have a look to the first nine images of the training dataset `trainX`:"
      ]
    },
    {
      "cell_type": "code",
      "execution_count": 4,
      "metadata": {
        "id": "0VtMyuM3Su_9",
        "outputId": "f41cb86a-fbe6-4e68-f8d8-b81a31af1e61",
        "colab": {
          "base_uri": "https://localhost:8080/",
          "height": 433
        }
      },
      "outputs": [
        {
          "output_type": "display_data",
          "data": {
            "text/plain": [
              "<Figure size 640x480 with 9 Axes>"
            ],
            "image/png": "[encoded data removed]"
          },
          "metadata": {}
        }
      ],
      "source": [
        "import matplotlib.pyplot as plt\n",
        "for i in range(9):\n",
        "    # define subplot\n",
        "    plt.subplot(330 + 1 + i)\n",
        "    # plot raw pixel data\n",
        "    plt.imshow(trainX[i], cmap=plt.get_cmap('gray'))\n",
        "# show the figure\n",
        "plt.show()"
      ]
    },
    {
      "cell_type": "markdown",
      "metadata": {
        "id": "6qfar5AHSu__"
      },
      "source": [
        "And its corresponding labels in the `trainY` variable,"
      ]
    },
    {
      "cell_type": "code",
      "execution_count": 5,
      "metadata": {
        "id": "XFhGK0o6Su__",
        "outputId": "0cbc2d9b-bd8e-4bab-f935-ba8e437f10e0",
        "colab": {
          "base_uri": "https://localhost:8080/"
        }
      },
      "outputs": [
        {
          "output_type": "stream",
          "name": "stdout",
          "text": [
            "[5 0 4 1 9 2 1 3 1]\n"
          ]
        }
      ],
      "source": [
        "print(trainY[:9])"
      ]
    },
    {
      "cell_type": "markdown",
      "metadata": {
        "id": "yE3jbAyBSvAA"
      },
      "source": [
        "Now let's do the same, plotting the images and printing its corresponding labels, for the first nine numbers in the test dataset."
      ]
    },
    {
      "cell_type": "code",
      "execution_count": 6,
      "metadata": {
        "id": "Je5sDmlSSvAA",
        "outputId": "d6d48d82-dcb8-41f4-ba91-1a9466922c9e",
        "colab": {
          "base_uri": "https://localhost:8080/",
          "height": 450
        }
      },
      "outputs": [
        {
          "output_type": "display_data",
          "data": {
            "text/plain": [
              "<Figure size 640x480 with 9 Axes>"
            ],
            "image/png": "[encoded data removed]"
          },
          "metadata": {}
        },
        {
          "output_type": "stream",
          "name": "stdout",
          "text": [
            "[7 2 1 0 4 1 4 9 5]\n"
          ]
        }
      ],
      "source": [
        "# FOR loop to print the first 9 images of the testX dataset\n",
        "for i in range(9):\n",
        "    plt.subplot(330 + 1 + i)\n",
        "    plt.imshow(testX[i], cmap=plt.get_cmap('gray'))\n",
        "plt.show()\n",
        "# print the first 9 lables of the testy variable\n",
        "print(testY[:9])"
      ]
    },
    {
      "cell_type": "markdown",
      "metadata": {
        "id": "AIBmK9K3SvAB"
      },
      "source": [
        "## Pre-processing\n",
        "---\n",
        "\n",
        "In the MNIST dataset al the numbers are already nicely pre-processed, the numbers are scaled to 28x28 pixels, centred and greyscaled. This of course is very convenient for training our data. However, it still needs some adjustments. The first one is explicitly specifying that the images have only one channel, so the algorithm does not get confused when reading the images. To do so, we need to re-shape our 28x28 tuples and converting it to 28 x 28 x 1, indicating that in each pixel position we have one single value instead of the usual 3 for RGB (28 x 28 x 3). The numbers will be exactly the same, only the format will slightly change. We can use the `.reshape()` method to do that."
      ]
    },
    {
      "cell_type": "code",
      "execution_count": 7,
      "metadata": {
        "id": "OjSZ0tDWSvAB"
      },
      "outputs": [],
      "source": [
        "# reshape dataset to have a single channel\n",
        "trainX = trainX.reshape((trainX.shape[0], 28, 28, 1))\n",
        "testX = testX.reshape((testX.shape[0], 28, 28, 1))"
      ]
    },
    {
      "cell_type": "markdown",
      "metadata": {
        "id": "r2N9qibmSvAC"
      },
      "source": [
        "Another typical pre-processing method that must be followed when dealing with images is to scale pixel values. There are three options here:\n",
        "* __Pixel Normalisation:__ Scale pixel values to the 0-1 range.\n",
        "* __Pixel Centring:__ Scale pixel values to zero mean, with negative and positive values.\n",
        "* __Pixel Standarisation:__ Scale pixel values to zero mean and unit variance.\n",
        "\n",
        "In this case we are going to use pixel normalisation, so we need to rescale the value range from 0-255 to 0-1."
      ]
    },
    {
      "cell_type": "code",
      "execution_count": 8,
      "metadata": {
        "id": "svWDPPGOSvAC"
      },
      "outputs": [],
      "source": [
        "#Normalise pixel values\n",
        "trainX = trainX / 255.0\n",
        "testX = testX / 255.0"
      ]
    },
    {
      "cell_type": "markdown",
      "metadata": {
        "id": "cRVCeTiQSvAC"
      },
      "source": [
        "The target datasets vectors also need some readjustment. The MNIST dataset provides integer numbers from 0 to 9, but here the real machine learning problem type is a __classification problem__ (categorical) rather than a regression problem (numerical). Thus, the error from predicting 3 instead of 2 is not smaller than predicting 8 instead of 2. Failing the prediction counts the same no matter how close those numbers are, we have to treat them like labels. In order to frame the problem correctly we need to convert the numbers in the test variables, from integers to categories. As there are 10 mutually exclusive categories, we will represent this by a vector with 10 position where everything will be zeros except the position that indicates the number, that will be filled with a 1. For example, the number 3 will then be encoded as a vector of zeros except a 1 in the fourth position (the first position is for the 0): `[0 0 0 1 0 0 0 0 0 0]`. Fortunately, keras library provides the `to_categorical()` function that does this job efficiently."
      ]
    },
    {
      "cell_type": "code",
      "execution_count": 9,
      "metadata": {
        "id": "UtU-4pKxSvAC",
        "outputId": "815915d9-26d3-4fed-f2c4-2a8d83f7f252",
        "colab": {
          "base_uri": "https://localhost:8080/"
        }
      },
      "outputs": [
        {
          "output_type": "stream",
          "name": "stdout",
          "text": [
            "First 9 Train Y values before conversion:\n",
            "[5 0 4 1 9 2 1 3 1]\n",
            "First 9 Train Y values after conversion:\n",
            "[[0. 0. 0. 0. 0. 1. 0. 0. 0. 0.]\n",
            " [1. 0. 0. 0. 0. 0. 0. 0. 0. 0.]\n",
            " [0. 0. 0. 0. 1. 0. 0. 0. 0. 0.]\n",
            " [0. 1. 0. 0. 0. 0. 0. 0. 0. 0.]\n",
            " [0. 0. 0. 0. 0. 0. 0. 0. 0. 1.]\n",
            " [0. 0. 1. 0. 0. 0. 0. 0. 0. 0.]\n",
            " [0. 1. 0. 0. 0. 0. 0. 0. 0. 0.]\n",
            " [0. 0. 0. 1. 0. 0. 0. 0. 0. 0.]\n",
            " [0. 1. 0. 0. 0. 0. 0. 0. 0. 0.]]\n"
          ]
        }
      ],
      "source": [
        "from keras.utils import to_categorical\n",
        "\n",
        "print(\"First 9 Train Y values before conversion:\")\n",
        "print(trainY[:9])\n",
        "\n",
        "# Convert labels from a 0-9 integer to a category (vector)\n",
        "trainY = to_categorical(trainY)\n",
        "testY = to_categorical(testY)\n",
        "\n",
        "print(\"First 9 Train Y values after conversion:\")\n",
        "print(trainY[:9])"
      ]
    },
    {
      "cell_type": "markdown",
      "metadata": {
        "id": "EMNu4R_tSvAC"
      },
      "source": [
        "Let's create a convenient function that we can name `load_dataset()` for loading and preprocessing the MNIST data. The function outputs the four variables, `trainX`, `trainY`, `testX` and `testY` with the data treated as explained in this section."
      ]
    },
    {
      "cell_type": "code",
      "execution_count": 10,
      "metadata": {
        "id": "RjkNiauvSvAC"
      },
      "outputs": [],
      "source": [
        "from tensorflow.keras.utils import to_categorical\n",
        "\n",
        "# Function to load and prepare the dataset\n",
        "def load_dataset():\n",
        "    # load dataset\n",
        "    (trainX, trainY), (testX, testY) = mnist.load_data()\n",
        "    # reshape dataset to have a single channel\n",
        "    trainX = trainX.reshape((trainX.shape[0], 28, 28, 1))\n",
        "    testX = testX.reshape((testX.shape[0], 28, 28, 1))\n",
        "    # normalize the pixel value from 0-255 to 0-1\n",
        "    trainX = trainX.astype('float32') / 255.0\n",
        "    testX = testX.astype('float32') / 255.0\n",
        "    # one hot encode target values\n",
        "    trainY = to_categorical(trainY)\n",
        "    testY = to_categorical(testY)\n",
        "    return trainX, trainY, testX, testY"
      ]
    },
    {
      "cell_type": "markdown",
      "metadata": {
        "id": "yVD5E5EqSvAD"
      },
      "source": [
        "## Defining the architecture\n",
        "---\n",
        "\n",
        "When processing data to predict a class, a Convolutional Neural Network has to resolve two different tasks at the same time. The first one (front-end) is to extract the relevant patterns and features from the image, based on a combination of kernel and pooling operations. The second task (back-end) is to use those extracted features to classify the image as one of the possible classes. This will be achieved by the back-end classifier layers, usually a fully connected layers.\n",
        "\n",
        "Deciding the specific architecture of a neural network is a process that requires a lot of trial and error, and sometimes a little bit of intuition. Many different architectures and training configurations can lead to good results, so there is no one single right answer. In our case we are going to start with a very simple CNN, enough to do the job relatively well. In case we want to expand this model further we can always add more layers and see how the accuracy improves.\n",
        "\n",
        "For the front-end, we will use only one __2D convolutional layer__ with __16 filters__(features) and a small __kernel size (3,3)__. This will be followed by a __2x2__ __max pooling layer__. The __flatten layer__ will connect the front-end with the back-end, passing 3136 inputs (14 x 14 x 16) to the classifier. The fully connected layer will be a __dense layer__ with __100 nodes__. All neurons will use __ReLU activation functions__ and weights will be initialised uniformally. The last __output layer__ has to contain __10 nodes__, we are predicting 10 different numbers, with __softmax activation__ to determine the category.\n",
        "\n",
        "For the learning configuration we will use a __stochastic gradient descent__ (SGD) optimizer with a __learning rate of 0.01__ and a __momentum of 0.9__. The __categorical cross-entropy loss__ function will be optimized, usual choice when dealing with classification problems, and we also speciy that we will monitor the classification __accuracy__ metric.\n",
        "\n",
        "The model described here will be built in a function called `define_model()` that will output the model configuration ready for training.\n"
      ]
    },
    {
      "cell_type": "code",
      "execution_count": 11,
      "metadata": {
        "id": "X9z315yfSvAD",
        "outputId": "f4653054-0d00-4792-f296-c554dcd21310",
        "colab": {
          "base_uri": "https://localhost:8080/",
          "height": 361
        }
      },
      "outputs": [
        {
          "output_type": "stream",
          "name": "stderr",
          "text": [
            "/usr/local/lib/python3.11/dist-packages/keras/src/layers/convolutional/base_conv.py:107: UserWarning: Do not pass an `input_shape`/`input_dim` argument to a layer. When using Sequential models, prefer using an `Input(shape)` object as the first layer in the model instead.\n",
            "  super().__init__(activity_regularizer=activity_regularizer, **kwargs)\n"
          ]
        },
        {
          "output_type": "display_data",
          "data": {
            "text/plain": [
              "\u001b[1mModel: \"sequential\"\u001b[0m\n"
            ],
            "text/html": [
              "<pre style=\"white-space:pre;overflow-x:auto;line-height:normal;font-family:Menlo,'DejaVu Sans Mono',consolas,'Courier New',monospace\"><span style=\"font-weight: bold\">Model: \"sequential\"</span>\n",
              "</pre>\n"
            ]
          },
          "metadata": {}
        },
        {
          "output_type": "display_data",
          "data": {
            "text/plain": [
              "┏━━━━━━━━━━━━━━━━━━━━━━━━━━━━━━━━━┳━━━━━━━━━━━━━━━━━━━━━━━━┳━━━━━━━━━━━━━━━┓\n",
              "┃\u001b[1m \u001b[0m\u001b[1mLayer (type)                   \u001b[0m\u001b[1m \u001b[0m┃\u001b[1m \u001b[0m\u001b[1mOutput Shape          \u001b[0m\u001b[1m \u001b[0m┃\u001b[1m \u001b[0m\u001b[1m      Param #\u001b[0m\u001b[1m \u001b[0m┃\n",
              "┡━━━━━━━━━━━━━━━━━━━━━━━━━━━━━━━━━╇━━━━━━━━━━━━━━━━━━━━━━━━╇━━━━━━━━━━━━━━━┩\n",
              "│ conv2d (\u001b[38;5;33mConv2D\u001b[0m)                 │ (\u001b[38;5;45mNone\u001b[0m, \u001b[38;5;34m26\u001b[0m, \u001b[38;5;34m26\u001b[0m, \u001b[38;5;34m16\u001b[0m)     │           \u001b[38;5;34m160\u001b[0m │\n",
              "├─────────────────────────────────┼────────────────────────┼───────────────┤\n",
              "│ max_pooling2d (\u001b[38;5;33mMaxPooling2D\u001b[0m)    │ (\u001b[38;5;45mNone\u001b[0m, \u001b[38;5;34m13\u001b[0m, \u001b[38;5;34m13\u001b[0m, \u001b[38;5;34m16\u001b[0m)     │             \u001b[38;5;34m0\u001b[0m │\n",
              "├─────────────────────────────────┼────────────────────────┼───────────────┤\n",
              "│ flatten (\u001b[38;5;33mFlatten\u001b[0m)               │ (\u001b[38;5;45mNone\u001b[0m, \u001b[38;5;34m2704\u001b[0m)           │             \u001b[38;5;34m0\u001b[0m │\n",
              "├─────────────────────────────────┼────────────────────────┼───────────────┤\n",
              "│ dense (\u001b[38;5;33mDense\u001b[0m)                   │ (\u001b[38;5;45mNone\u001b[0m, \u001b[38;5;34m100\u001b[0m)            │       \u001b[38;5;34m270,500\u001b[0m │\n",
              "├─────────────────────────────────┼────────────────────────┼───────────────┤\n",
              "│ dense_1 (\u001b[38;5;33mDense\u001b[0m)                 │ (\u001b[38;5;45mNone\u001b[0m, \u001b[38;5;34m10\u001b[0m)             │         \u001b[38;5;34m1,010\u001b[0m │\n",
              "└─────────────────────────────────┴────────────────────────┴───────────────┘\n"
            ],
            "text/html": [
              "<pre style=\"white-space:pre;overflow-x:auto;line-height:normal;font-family:Menlo,'DejaVu Sans Mono',consolas,'Courier New',monospace\">┏━━━━━━━━━━━━━━━━━━━━━━━━━━━━━━━━━┳━━━━━━━━━━━━━━━━━━━━━━━━┳━━━━━━━━━━━━━━━┓\n",
              "┃<span style=\"font-weight: bold\"> Layer (type)                    </span>┃<span style=\"font-weight: bold\"> Output Shape           </span>┃<span style=\"font-weight: bold\">       Param # </span>┃\n",
              "┡━━━━━━━━━━━━━━━━━━━━━━━━━━━━━━━━━╇━━━━━━━━━━━━━━━━━━━━━━━━╇━━━━━━━━━━━━━━━┩\n",
              "│ conv2d (<span style=\"color: #0087ff; text-decoration-color: #0087ff\">Conv2D</span>)                 │ (<span style=\"color: #00d7ff; text-decoration-color: #00d7ff\">None</span>, <span style=\"color: #00af00; text-decoration-color: #00af00\">26</span>, <span style=\"color: #00af00; text-decoration-color: #00af00\">26</span>, <span style=\"color: #00af00; text-decoration-color: #00af00\">16</span>)     │           <span style=\"color: #00af00; text-decoration-color: #00af00\">160</span> │\n",
              "├─────────────────────────────────┼────────────────────────┼───────────────┤\n",
              "│ max_pooling2d (<span style=\"color: #0087ff; text-decoration-color: #0087ff\">MaxPooling2D</span>)    │ (<span style=\"color: #00d7ff; text-decoration-color: #00d7ff\">None</span>, <span style=\"color: #00af00; text-decoration-color: #00af00\">13</span>, <span style=\"color: #00af00; text-decoration-color: #00af00\">13</span>, <span style=\"color: #00af00; text-decoration-color: #00af00\">16</span>)     │             <span style=\"color: #00af00; text-decoration-color: #00af00\">0</span> │\n",
              "├─────────────────────────────────┼────────────────────────┼───────────────┤\n",
              "│ flatten (<span style=\"color: #0087ff; text-decoration-color: #0087ff\">Flatten</span>)               │ (<span style=\"color: #00d7ff; text-decoration-color: #00d7ff\">None</span>, <span style=\"color: #00af00; text-decoration-color: #00af00\">2704</span>)           │             <span style=\"color: #00af00; text-decoration-color: #00af00\">0</span> │\n",
              "├─────────────────────────────────┼────────────────────────┼───────────────┤\n",
              "│ dense (<span style=\"color: #0087ff; text-decoration-color: #0087ff\">Dense</span>)                   │ (<span style=\"color: #00d7ff; text-decoration-color: #00d7ff\">None</span>, <span style=\"color: #00af00; text-decoration-color: #00af00\">100</span>)            │       <span style=\"color: #00af00; text-decoration-color: #00af00\">270,500</span> │\n",
              "├─────────────────────────────────┼────────────────────────┼───────────────┤\n",
              "│ dense_1 (<span style=\"color: #0087ff; text-decoration-color: #0087ff\">Dense</span>)                 │ (<span style=\"color: #00d7ff; text-decoration-color: #00d7ff\">None</span>, <span style=\"color: #00af00; text-decoration-color: #00af00\">10</span>)             │         <span style=\"color: #00af00; text-decoration-color: #00af00\">1,010</span> │\n",
              "└─────────────────────────────────┴────────────────────────┴───────────────┘\n",
              "</pre>\n"
            ]
          },
          "metadata": {}
        },
        {
          "output_type": "display_data",
          "data": {
            "text/plain": [
              "\u001b[1m Total params: \u001b[0m\u001b[38;5;34m271,670\u001b[0m (1.04 MB)\n"
            ],
            "text/html": [
              "<pre style=\"white-space:pre;overflow-x:auto;line-height:normal;font-family:Menlo,'DejaVu Sans Mono',consolas,'Courier New',monospace\"><span style=\"font-weight: bold\"> Total params: </span><span style=\"color: #00af00; text-decoration-color: #00af00\">271,670</span> (1.04 MB)\n",
              "</pre>\n"
            ]
          },
          "metadata": {}
        },
        {
          "output_type": "display_data",
          "data": {
            "text/plain": [
              "\u001b[1m Trainable params: \u001b[0m\u001b[38;5;34m271,670\u001b[0m (1.04 MB)\n"
            ],
            "text/html": [
              "<pre style=\"white-space:pre;overflow-x:auto;line-height:normal;font-family:Menlo,'DejaVu Sans Mono',consolas,'Courier New',monospace\"><span style=\"font-weight: bold\"> Trainable params: </span><span style=\"color: #00af00; text-decoration-color: #00af00\">271,670</span> (1.04 MB)\n",
              "</pre>\n"
            ]
          },
          "metadata": {}
        },
        {
          "output_type": "display_data",
          "data": {
            "text/plain": [
              "\u001b[1m Non-trainable params: \u001b[0m\u001b[38;5;34m0\u001b[0m (0.00 B)\n"
            ],
            "text/html": [
              "<pre style=\"white-space:pre;overflow-x:auto;line-height:normal;font-family:Menlo,'DejaVu Sans Mono',consolas,'Courier New',monospace\"><span style=\"font-weight: bold\"> Non-trainable params: </span><span style=\"color: #00af00; text-decoration-color: #00af00\">0</span> (0.00 B)\n",
              "</pre>\n"
            ]
          },
          "metadata": {}
        }
      ],
      "source": [
        "from tensorflow.keras.models import Sequential\n",
        "from tensorflow.keras.layers import Conv2D, MaxPooling2D, Dense, Flatten\n",
        "from tensorflow.keras.optimizers import SGD\n",
        "\n",
        "def define_model_simple():\n",
        "    # Define the Sequential model class for our case\n",
        "    model = Sequential()\n",
        "    # Define the layers of our network\n",
        "    model.add(Conv2D(filters=16, kernel_size=(3, 3), activation='relu', kernel_initializer='he_uniform', input_shape=(28, 28, 1)))\n",
        "    model.add(MaxPooling2D(pool_size=(2, 2)))\n",
        "    model.add(Flatten())\n",
        "    model.add(Dense(100, activation='relu', kernel_initializer='he_uniform'))\n",
        "    model.add(Dense(10, activation='softmax'))\n",
        "\n",
        "    # compile model and training configuration\n",
        "    opt = SGD(learning_rate=0.01, momentum=0.9)\n",
        "    model.compile(optimizer=opt, loss='categorical_crossentropy', metrics=['accuracy'])\n",
        "\n",
        "    return model\n",
        "\n",
        "simple_model = define_model_simple()\n",
        "simple_model.summary()"
      ]
    },
    {
      "cell_type": "markdown",
      "metadata": {
        "id": "QuJIfgM-SvAE"
      },
      "source": [
        "<div class=\"alert alert-block alert-info\"><b>Exercise 1:</b><br>Create a function called define_model_advanced() that builds the architecture for a slighlty more advanced CNN corresponding to the following image:<br><br><img src=\"https://raw.githubusercontent.com/mariogutierrezroig/Teaching-Notebooks/main/Convolutional_Neural_Networks/CNN_architecture_advanced.png\" style=\"width: 600px\"></div>"
      ]
    },
    {
      "cell_type": "code",
      "execution_count": 12,
      "metadata": {
        "id": "0_jzfjVuSvAE"
      },
      "outputs": [],
      "source": [
        "### EXERCISE 1 SOLUTION ###\n",
        "\n",
        "import torch\n",
        "import torch.nn as nn\n",
        "import torch.nn.functional as F\n",
        "\n",
        "def define_model_advanced():\n",
        "    class AdvancedCNN(nn.Module):\n",
        "        def __init__(self):\n",
        "            super(AdvancedCNN, self).__init__()\n",
        "\n",
        "            # First convolutional layer: input 1x28x28, output 32x28x28\n",
        "            self.conv1 = nn.Conv2d(in_channels=1, out_channels=32, kernel_size=3, stride=1, padding=1)\n",
        "            # First max pooling layer: output 32x14x14\n",
        "            self.pool1 = nn.MaxPool2d(kernel_size=2, stride=2)\n",
        "\n",
        "            # Second convolutional layer: output 64x14x14\n",
        "            self.conv2 = nn.Conv2d(in_channels=32, out_channels=64, kernel_size=3, stride=1, padding=1)\n",
        "            # Second max pooling layer: output 64x7x7\n",
        "            self.pool2 = nn.MaxPool2d(kernel_size=2, stride=2)\n",
        "\n",
        "            # Fully connected layers\n",
        "            self.fc1 = nn.Linear(64 * 7 * 7, 128)  # Flattened: 3136 = 64*7*7\n",
        "            self.fc2 = nn.Linear(128, 10)          # 10 output classes for digits 0–9\n",
        "\n",
        "        def forward(self, x):\n",
        "            x = F.relu(self.conv1(x))\n",
        "            x = self.pool1(x)\n",
        "            x = F.relu(self.conv2(x))\n",
        "            x = self.pool2(x)\n",
        "            x = x.view(-1, 64 * 7 * 7)  # Flatten\n",
        "            x = F.relu(self.fc1(x))\n",
        "            x = self.fc2(x)\n",
        "            return x\n",
        "\n",
        "    return AdvancedCNN()"
      ]
    },
    {
      "cell_type": "markdown",
      "metadata": {
        "id": "t6CrTR3sSvAE"
      },
      "source": [
        "## Training the model\n",
        "---\n",
        "Everything is now ready to train our CNN with the MNIST dataset. Because we have defined the preliminary steps as functions, `load_dataset()` and `define_model()`, we can actually run the training process in very few lines.   The most convenient way to do it is by creating a function named `run()`, that contains all the previous steps before training, then training and evaluating the network and finally plotting some of the results. Including a line for saving the model it is always a good idea. This creates a 4.4MB file that we can load and use for predicting new numbers as explain below.\n",
        "\n",
        "__Note__: Training a CNN such as the one here with a dataset of 70,000 different instances can take quite a while. Of course this will depend on your hardware setup and whether you are running it in a machine with GPU or CPU only. As a reference, it took my laptop, an intel core i7 with 16GB of RAM, several minutes to complete the training."
      ]
    },
    {
      "cell_type": "code",
      "execution_count": 18,
      "metadata": {
        "id": "MFo-0lksSvAE",
        "outputId": "57184889-3f63-4608-98e7-051dae17f737",
        "colab": {
          "base_uri": "https://localhost:8080/"
        }
      },
      "outputs": [
        {
          "output_type": "stream",
          "name": "stdout",
          "text": [
            "Epoch 1/12\n",
            "\u001b[1m118/118\u001b[0m \u001b[32m━━━━━━━━━━━━━━━━━━━━\u001b[0m\u001b[37m\u001b[0m \u001b[1m5s\u001b[0m 27ms/step - accuracy: 0.6587 - loss: 1.1110 - val_accuracy: 0.9211 - val_loss: 0.2673\n",
            "Epoch 2/12\n",
            "\u001b[1m118/118\u001b[0m \u001b[32m━━━━━━━━━━━━━━━━━━━━\u001b[0m\u001b[37m\u001b[0m \u001b[1m1s\u001b[0m 5ms/step - accuracy: 0.9231 - loss: 0.2628 - val_accuracy: 0.9407 - val_loss: 0.2053\n",
            "Epoch 3/12\n",
            "\u001b[1m118/118\u001b[0m \u001b[32m━━━━━━━━━━━━━━━━━━━━\u001b[0m\u001b[37m\u001b[0m \u001b[1m1s\u001b[0m 5ms/step - accuracy: 0.9400 - loss: 0.2058 - val_accuracy: 0.9505 - val_loss: 0.1639\n",
            "Epoch 4/12\n",
            "\u001b[1m118/118\u001b[0m \u001b[32m━━━━━━━━━━━━━━━━━━━━\u001b[0m\u001b[37m\u001b[0m \u001b[1m1s\u001b[0m 6ms/step - accuracy: 0.9516 - loss: 0.1662 - val_accuracy: 0.9601 - val_loss: 0.1388\n",
            "Epoch 5/12\n",
            "\u001b[1m118/118\u001b[0m \u001b[32m━━━━━━━━━━━━━━━━━━━━\u001b[0m\u001b[37m\u001b[0m \u001b[1m1s\u001b[0m 6ms/step - accuracy: 0.9587 - loss: 0.1403 - val_accuracy: 0.9665 - val_loss: 0.1199\n",
            "Epoch 6/12\n",
            "\u001b[1m118/118\u001b[0m \u001b[32m━━━━━━━━━━━━━━━━━━━━\u001b[0m\u001b[37m\u001b[0m \u001b[1m1s\u001b[0m 6ms/step - accuracy: 0.9654 - loss: 0.1205 - val_accuracy: 0.9668 - val_loss: 0.1078\n",
            "Epoch 7/12\n",
            "\u001b[1m118/118\u001b[0m \u001b[32m━━━━━━━━━━━━━━━━━━━━\u001b[0m\u001b[37m\u001b[0m \u001b[1m1s\u001b[0m 6ms/step - accuracy: 0.9717 - loss: 0.1029 - val_accuracy: 0.9694 - val_loss: 0.1017\n",
            "Epoch 8/12\n",
            "\u001b[1m118/118\u001b[0m \u001b[32m━━━━━━━━━━━━━━━━━━━━\u001b[0m\u001b[37m\u001b[0m \u001b[1m1s\u001b[0m 6ms/step - accuracy: 0.9740 - loss: 0.0933 - val_accuracy: 0.9728 - val_loss: 0.0927\n",
            "Epoch 9/12\n",
            "\u001b[1m118/118\u001b[0m \u001b[32m━━━━━━━━━━━━━━━━━━━━\u001b[0m\u001b[37m\u001b[0m \u001b[1m1s\u001b[0m 6ms/step - accuracy: 0.9750 - loss: 0.0857 - val_accuracy: 0.9747 - val_loss: 0.0833\n",
            "Epoch 10/12\n",
            "\u001b[1m118/118\u001b[0m \u001b[32m━━━━━━━━━━━━━━━━━━━━\u001b[0m\u001b[37m\u001b[0m \u001b[1m1s\u001b[0m 6ms/step - accuracy: 0.9790 - loss: 0.0751 - val_accuracy: 0.9755 - val_loss: 0.0799\n",
            "Epoch 11/12\n",
            "\u001b[1m118/118\u001b[0m \u001b[32m━━━━━━━━━━━━━━━━━━━━\u001b[0m\u001b[37m\u001b[0m \u001b[1m1s\u001b[0m 5ms/step - accuracy: 0.9795 - loss: 0.0719 - val_accuracy: 0.9772 - val_loss: 0.0736\n",
            "Epoch 12/12\n",
            "\u001b[1m118/118\u001b[0m \u001b[32m━━━━━━━━━━━━━━━━━━━━\u001b[0m\u001b[37m\u001b[0m \u001b[1m1s\u001b[0m 6ms/step - accuracy: 0.9814 - loss: 0.0652 - val_accuracy: 0.9779 - val_loss: 0.0721\n"
          ]
        },
        {
          "output_type": "stream",
          "name": "stderr",
          "text": [
            "WARNING:absl:You are saving your model as an HDF5 file via `model.save()` or `keras.saving.save_model(model)`. This file format is considered legacy. We recommend using instead the native Keras format, e.g. `model.save('my_model.keras')` or `keras.saving.save_model(model, 'my_model.keras')`. \n"
          ]
        }
      ],
      "source": [
        "# load dataset\n",
        "trainX, trainY, testX, testY = load_dataset()\n",
        "# fit model\n",
        "history = simple_model.fit(trainX, trainY, epochs=12, batch_size=512, validation_data=(testX, testY), verbose=True)\n",
        "# save the model to file\n",
        "simple_model.save('handwritten_numbers_classification_model.h5')"
      ]
    },
    {
      "cell_type": "markdown",
      "metadata": {
        "id": "GDgF1ySTSvAF"
      },
      "source": [
        "The model is already trained, but before using it we might want to check that there is no overfitting. Observing how the accuracy and entropy loss metrics evolve over the training epochs will help us to asses that. Thus we can create a handy function called `diagnostics()` that makes a couple of plots using the information available in the variable `history`, which is the output variable of the training process."
      ]
    },
    {
      "cell_type": "code",
      "execution_count": 19,
      "metadata": {
        "id": "0-KJeTYLSvAF",
        "outputId": "5dfa7989-3e89-4312-9502-b34ab872ea6b",
        "colab": {
          "base_uri": "https://localhost:8080/",
          "height": 452
        }
      },
      "outputs": [
        {
          "output_type": "display_data",
          "data": {
            "text/plain": [
              "<Figure size 640x480 with 2 Axes>"
            ],
            "image/png": "[encoded data removed]"
          },
          "metadata": {}
        }
      ],
      "source": [
        "def diagnostics(history, filename=None):\n",
        "\n",
        "    # Entropy Loss plot\n",
        "    plt.subplot(211)\n",
        "    plt.subplots_adjust(hspace=0.4)\n",
        "    plt.title('Cross Entropy Loss')\n",
        "    plt.plot(history.history['loss'], color='blue', label='train')\n",
        "    plt.plot(history.history['val_loss'], color='orange', label='test')\n",
        "\n",
        "    # Accuracy plot\n",
        "    plt.subplot(212)\n",
        "    plt.title('Classification Accuracy')\n",
        "    plt.plot(history.history['accuracy'], color='blue', label='train')\n",
        "    plt.plot(history.history['val_accuracy'], color='orange', label='test')\n",
        "\n",
        "    # Save plot if filename provided\n",
        "    if filename is not None:\n",
        "        plt.savefig(filename)\n",
        "        plt.close()\n",
        "\n",
        "diagnostics(history)"
      ]
    },
    {
      "cell_type": "markdown",
      "metadata": {
        "id": "3XuWTBJlSvAF"
      },
      "source": [
        "We can see in the above image that both curves nicely converge accross time. This means that the results achieved on the training dataset (blue) and the test dataset (orange) are quite similar, which means no signs of overfitting. Another remarkable fact is that the results seem to not be saturated at the end of 12 epochs and some improvement can still be observed. If we let the CNN training for longer we could expect slightly better results."
      ]
    },
    {
      "cell_type": "markdown",
      "metadata": {
        "id": "wBKsZ-BkSvAF"
      },
      "source": [
        "Finally, we can get the overall accuracy by evaluating the model on the training dataset, whose data points our model has never seen during the training process."
      ]
    },
    {
      "cell_type": "code",
      "execution_count": 20,
      "metadata": {
        "id": "PA9BJPSESvAF",
        "outputId": "bea39307-7ed4-43c1-f9cc-2a87d9274b98",
        "colab": {
          "base_uri": "https://localhost:8080/"
        }
      },
      "outputs": [
        {
          "output_type": "stream",
          "name": "stdout",
          "text": [
            "Cross Entropy Loss: 0.07\n",
            "Accuracy: 97.79%\n"
          ]
        }
      ],
      "source": [
        "# evaluate model\n",
        "loss, acc = simple_model.evaluate(testX, testY, verbose=0)\n",
        "# Print final accuracy\n",
        "print('Cross Entropy Loss: %.2f' % loss)\n",
        "print('Accuracy: %.2f%%' % (acc * 100.0))"
      ]
    },
    {
      "cell_type": "markdown",
      "metadata": {
        "id": "06epy7lHSvAF"
      },
      "source": [
        "The result printed on the screen should show a value close to 98% accuracy. That is quite striking! With a relatively simple convolutional neural network we are getting very high accuracy rates. This shows why CNNs are very powerful when it comes to HWR problems."
      ]
    },
    {
      "cell_type": "markdown",
      "metadata": {
        "id": "be95CQuvSvAG"
      },
      "source": [
        "<div class=\"alert alert-block alert-info\"><b>Exercise 2:</b><br>Run the advanced CNN designed in the Exercise 1 and compare the results.</div>"
      ]
    },
    {
      "cell_type": "code",
      "execution_count": 13,
      "metadata": {
        "id": "qH4DAKS1SvAG",
        "outputId": "dd6e1fc1-b9a9-49fa-a3fc-3695357f1b95",
        "colab": {
          "base_uri": "https://localhost:8080/",
          "height": 1000
        }
      },
      "outputs": [
        {
          "output_type": "stream",
          "name": "stderr",
          "text": [
            "/usr/local/lib/python3.11/dist-packages/keras/src/layers/convolutional/base_conv.py:107: UserWarning: Do not pass an `input_shape`/`input_dim` argument to a layer. When using Sequential models, prefer using an `Input(shape)` object as the first layer in the model instead.\n",
            "  super().__init__(activity_regularizer=activity_regularizer, **kwargs)\n"
          ]
        },
        {
          "output_type": "stream",
          "name": "stdout",
          "text": [
            "Epoch 1/12\n",
            "\u001b[1m118/118\u001b[0m \u001b[32m━━━━━━━━━━━━━━━━━━━━\u001b[0m\u001b[37m\u001b[0m \u001b[1m9s\u001b[0m 35ms/step - accuracy: 0.7721 - loss: 0.8304 - val_accuracy: 0.9695 - val_loss: 0.1036\n",
            "Epoch 2/12\n",
            "\u001b[1m118/118\u001b[0m \u001b[32m━━━━━━━━━━━━━━━━━━━━\u001b[0m\u001b[37m\u001b[0m \u001b[1m4s\u001b[0m 12ms/step - accuracy: 0.9717 - loss: 0.0978 - val_accuracy: 0.9793 - val_loss: 0.0667\n",
            "Epoch 3/12\n",
            "\u001b[1m118/118\u001b[0m \u001b[32m━━━━━━━━━━━━━━━━━━━━\u001b[0m\u001b[37m\u001b[0m \u001b[1m2s\u001b[0m 11ms/step - accuracy: 0.9821 - loss: 0.0594 - val_accuracy: 0.9841 - val_loss: 0.0506\n",
            "Epoch 4/12\n",
            "\u001b[1m118/118\u001b[0m \u001b[32m━━━━━━━━━━━━━━━━━━━━\u001b[0m\u001b[37m\u001b[0m \u001b[1m1s\u001b[0m 11ms/step - accuracy: 0.9862 - loss: 0.0466 - val_accuracy: 0.9882 - val_loss: 0.0384\n",
            "Epoch 5/12\n",
            "\u001b[1m118/118\u001b[0m \u001b[32m━━━━━━━━━━━━━━━━━━━━\u001b[0m\u001b[37m\u001b[0m \u001b[1m2s\u001b[0m 13ms/step - accuracy: 0.9893 - loss: 0.0378 - val_accuracy: 0.9870 - val_loss: 0.0392\n",
            "Epoch 6/12\n",
            "\u001b[1m118/118\u001b[0m \u001b[32m━━━━━━━━━━━━━━━━━━━━\u001b[0m\u001b[37m\u001b[0m \u001b[1m1s\u001b[0m 12ms/step - accuracy: 0.9908 - loss: 0.0310 - val_accuracy: 0.9875 - val_loss: 0.0358\n",
            "Epoch 7/12\n",
            "\u001b[1m118/118\u001b[0m \u001b[32m━━━━━━━━━━━━━━━━━━━━\u001b[0m\u001b[37m\u001b[0m \u001b[1m1s\u001b[0m 11ms/step - accuracy: 0.9912 - loss: 0.0289 - val_accuracy: 0.9895 - val_loss: 0.0302\n",
            "Epoch 8/12\n",
            "\u001b[1m118/118\u001b[0m \u001b[32m━━━━━━━━━━━━━━━━━━━━\u001b[0m\u001b[37m\u001b[0m \u001b[1m2s\u001b[0m 11ms/step - accuracy: 0.9927 - loss: 0.0233 - val_accuracy: 0.9891 - val_loss: 0.0303\n",
            "Epoch 9/12\n",
            "\u001b[1m118/118\u001b[0m \u001b[32m━━━━━━━━━━━━━━━━━━━━\u001b[0m\u001b[37m\u001b[0m \u001b[1m3s\u001b[0m 11ms/step - accuracy: 0.9936 - loss: 0.0215 - val_accuracy: 0.9897 - val_loss: 0.0319\n",
            "Epoch 10/12\n",
            "\u001b[1m118/118\u001b[0m \u001b[32m━━━━━━━━━━━━━━━━━━━━\u001b[0m\u001b[37m\u001b[0m \u001b[1m3s\u001b[0m 11ms/step - accuracy: 0.9950 - loss: 0.0167 - val_accuracy: 0.9895 - val_loss: 0.0306\n",
            "Epoch 11/12\n",
            "\u001b[1m118/118\u001b[0m \u001b[32m━━━━━━━━━━━━━━━━━━━━\u001b[0m\u001b[37m\u001b[0m \u001b[1m3s\u001b[0m 11ms/step - accuracy: 0.9957 - loss: 0.0144 - val_accuracy: 0.9895 - val_loss: 0.0305\n",
            "Epoch 12/12\n",
            "\u001b[1m118/118\u001b[0m \u001b[32m━━━━━━━━━━━━━━━━━━━━\u001b[0m\u001b[37m\u001b[0m \u001b[1m1s\u001b[0m 11ms/step - accuracy: 0.9961 - loss: 0.0131 - val_accuracy: 0.9882 - val_loss: 0.0338\n"
          ]
        },
        {
          "output_type": "stream",
          "name": "stderr",
          "text": [
            "WARNING:absl:You are saving your model as an HDF5 file via `model.save()` or `keras.saving.save_model(model)`. This file format is considered legacy. We recommend using instead the native Keras format, e.g. `model.save('my_model.keras')` or `keras.saving.save_model(model, 'my_model.keras')`. \n"
          ]
        },
        {
          "output_type": "display_data",
          "data": {
            "text/plain": [
              "<Figure size 1000x600 with 2 Axes>"
            ],
            "image/png": "[encoded data removed]"
          },
          "metadata": {}
        }
      ],
      "source": [
        "### EXERCISE 2 SOLUTION ###\n",
        "\n",
        "from tensorflow.keras.datasets import mnist\n",
        "from tensorflow.keras.models import Sequential\n",
        "from tensorflow.keras.layers import Conv2D, MaxPooling2D, Flatten, Dense\n",
        "from tensorflow.keras.utils import to_categorical\n",
        "import matplotlib.pyplot as plt\n",
        "\n",
        "# Load and preprocess dataset\n",
        "def load_dataset():\n",
        "    (trainX, trainY), (testX, testY) = mnist.load_data()\n",
        "    # reshape to [samples][width][height][channels]\n",
        "    trainX = trainX.reshape((trainX.shape[0], 28, 28, 1)).astype('float32') / 255\n",
        "    testX = testX.reshape((testX.shape[0], 28, 28, 1)).astype('float32') / 255\n",
        "    # one-hot encode labels\n",
        "    trainY = to_categorical(trainY)\n",
        "    testY = to_categorical(testY)\n",
        "    return trainX, trainY, testX, testY\n",
        "\n",
        "# Define advanced CNN model\n",
        "def define_model_advanced():\n",
        "    model = Sequential()\n",
        "    # Conv Block 1\n",
        "    model.add(Conv2D(32, (3, 3), activation='relu', padding='same', input_shape=(28, 28, 1)))\n",
        "    model.add(MaxPooling2D((2, 2), strides=2))\n",
        "    # Conv Block 2\n",
        "    model.add(Conv2D(64, (3, 3), activation='relu', padding='same'))\n",
        "    model.add(MaxPooling2D((2, 2), strides=2))\n",
        "    # Dense layers\n",
        "    model.add(Flatten())\n",
        "    model.add(Dense(128, activation='relu'))\n",
        "    model.add(Dense(10, activation='softmax'))\n",
        "    # Compile model\n",
        "    model.compile(optimizer='adam', loss='categorical_crossentropy', metrics=['accuracy'])\n",
        "    return model\n",
        "\n",
        "# Plot training diagnostics\n",
        "def diagnostics(history, filename=None):\n",
        "    plt.figure(figsize=(10, 6))\n",
        "\n",
        "    # Entropy Loss plot\n",
        "    plt.subplot(211)\n",
        "    plt.subplots_adjust(hspace=0.4)\n",
        "    plt.title('Cross Entropy Loss')\n",
        "    plt.plot(history.history['loss'], color='blue', label='train')\n",
        "    plt.plot(history.history['val_loss'], color='orange', label='test')\n",
        "    plt.legend()\n",
        "\n",
        "    # Accuracy plot\n",
        "    plt.subplot(212)\n",
        "    plt.title('Classification Accuracy')\n",
        "    plt.plot(history.history['accuracy'], color='blue', label='train')\n",
        "    plt.plot(history.history['val_accuracy'], color='orange', label='test')\n",
        "    plt.legend()\n",
        "\n",
        "    if filename is not None:\n",
        "        plt.savefig(filename)\n",
        "        plt.close()\n",
        "    else:\n",
        "        plt.show()\n",
        "\n",
        "# === Run training ===\n",
        "trainX, trainY, testX, testY = load_dataset()\n",
        "advanced_model = define_model_advanced()\n",
        "history = advanced_model.fit(trainX, trainY, epochs=12, batch_size=512, validation_data=(testX, testY), verbose=True)\n",
        "\n",
        "# Save the model\n",
        "advanced_model.save('advanced_handwritten_digits_model.h5')\n",
        "\n",
        "# Show diagnostics\n",
        "diagnostics(history)\n"
      ]
    },
    {
      "cell_type": "markdown",
      "metadata": {
        "id": "x6QSn4LRSvAG"
      },
      "source": [
        "## Looking into the CNN\n",
        "---\n",
        "\n",
        "One of the main drawbacks of Neural Networks in general is that we use them as black boxes where we input some data and most of the times we get a good prediction out of it, but the models are so complex and with so many parameters that we do not really understand what is happening inside. In the case of CNNs, it is dificult to grasp what kind of features and patterns they are picking up from the image.\n",
        "\n",
        "If we want to give it a go, and try to understand what's happening inside the black box, one way is to look at the values of the weights after the neural network has been trained. In particular, if we want to know the values of the 16 different 3x3 kernels in our `simple_model` we can do it using the `get_weights()` function pointing at the selected layer as shown below."
      ]
    },
    {
      "cell_type": "code",
      "execution_count": 14,
      "metadata": {
        "id": "pmmbsn4zSvAG",
        "outputId": "f7c0dbe2-0407-4c63-c918-03df95abc7eb",
        "colab": {
          "base_uri": "https://localhost:8080/"
        }
      },
      "outputs": [
        {
          "output_type": "execute_result",
          "data": {
            "text/plain": [
              "array([[[[-0.5780241 , -0.22474319,  0.7348914 , -0.20532447,\n",
              "           0.40800107, -0.663641  , -0.65953934,  0.78585875,\n",
              "           0.5463582 ,  0.05424541,  0.43452823,  0.6044549 ,\n",
              "          -0.22250861,  0.69197416, -0.6632606 , -0.2245394 ]],\n",
              "\n",
              "        [[-0.18460381,  0.02622759, -0.67688346, -0.20420885,\n",
              "          -0.4787327 ,  0.34942472, -0.43651876,  0.412423  ,\n",
              "          -0.2913642 ,  0.22698832,  0.00936139, -0.43281287,\n",
              "          -0.5155224 ,  0.07333356, -0.16458029, -0.149818  ]],\n",
              "\n",
              "        [[-0.52692413,  0.20259368, -0.70466125, -0.03969765,\n",
              "           0.6580136 ,  0.0447709 ,  0.42175066, -0.58409774,\n",
              "           0.42726016, -0.61973774,  0.09610856, -0.45966616,\n",
              "          -0.623283  , -0.23047906,  0.13929307,  0.06695062]]],\n",
              "\n",
              "\n",
              "       [[[ 0.23837852,  0.22533357,  0.80057466, -0.00861055,\n",
              "           0.45651102, -0.7132212 , -0.12536752,  0.7771585 ,\n",
              "           0.50181425,  0.6208327 ,  0.547879  , -0.17571217,\n",
              "          -0.6919461 , -0.07640231, -0.70386195, -0.44924128]],\n",
              "\n",
              "        [[ 0.1498552 , -0.376204  , -0.49319693, -0.62404513,\n",
              "          -0.7503132 ,  0.15266776,  0.5328132 ,  0.63945305,\n",
              "          -0.19497746,  0.25500727,  0.04702985,  0.81058586,\n",
              "          -0.78603536, -0.593755  ,  0.5341525 ,  0.48678064]],\n",
              "\n",
              "        [[-0.5734377 , -0.4550019 ,  0.6171428 , -0.7318032 ,\n",
              "           0.14572376, -0.04220557,  0.00565803, -0.71813476,\n",
              "          -0.27899128,  0.39611423,  0.5322561 ,  0.77614295,\n",
              "           0.77393675,  0.5418273 , -0.363368  ,  0.1010679 ]]],\n",
              "\n",
              "\n",
              "       [[[-0.45907182, -0.77933586, -0.0054881 , -0.32158348,\n",
              "          -0.24089438, -0.7478341 , -0.48519373,  0.01578915,\n",
              "          -0.16161686, -0.58914757, -0.08199823, -0.20480585,\n",
              "          -0.30627716, -0.7584328 ,  0.5795214 ,  0.2623495 ]],\n",
              "\n",
              "        [[ 0.26510894, -0.8143911 , -0.39787814,  0.20143175,\n",
              "           0.5006865 ,  0.02359414, -0.03250724,  0.39781666,\n",
              "          -0.61513364, -0.2883274 , -0.2251144 ,  0.5417012 ,\n",
              "           0.79250014, -0.22285765, -0.35577556,  0.32223952]],\n",
              "\n",
              "        [[-0.43371108,  0.20610392, -0.29863584, -0.49233824,\n",
              "          -0.662858  ,  0.10418689,  0.435472  , -0.28638774,\n",
              "           0.81198084,  0.54484403, -0.40968418, -0.6584221 ,\n",
              "          -0.58270645,  0.5386764 , -0.54044867, -0.52909   ]]]],\n",
              "      dtype=float32)"
            ]
          },
          "metadata": {},
          "execution_count": 14
        }
      ],
      "source": [
        "# get wieghts of first convolutional layer\n",
        "weights, bias = simple_model.layers[0].get_weights()\n",
        "weights"
      ]
    },
    {
      "cell_type": "markdown",
      "metadata": {
        "id": "ba9Ji2BgSvAG"
      },
      "source": [
        "This bunch of numbers do not say much to us, but we can easily plot them in 3x3 kernel units to try shed more light in it."
      ]
    },
    {
      "cell_type": "code",
      "execution_count": 15,
      "metadata": {
        "id": "fGclgGVjSvAG",
        "outputId": "bb7dc4f2-8dc0-4fca-af40-9ad8c9f66e20",
        "colab": {
          "base_uri": "https://localhost:8080/",
          "height": 406
        }
      },
      "outputs": [
        {
          "output_type": "display_data",
          "data": {
            "text/plain": [
              "<Figure size 640x480 with 16 Axes>"
            ],
            "image/png": "[encoded data removed]"
          },
          "metadata": {}
        }
      ],
      "source": [
        "#normalize filter values between  0 and 1 for visualization\n",
        "f_min, f_max = weights.min(), weights.max()\n",
        "filters = (weights - f_min) / (f_max - f_min)\n",
        "\n",
        "# Counter for filters\n",
        "counter = 1\n",
        "# Get the number of filters\n",
        "num_filters = filters.shape[3]\n",
        "\n",
        "#plotting all the filters\n",
        "for i in range(num_filters):\n",
        "    #get the filter values\n",
        "    filt=filters[:,:,:, i]\n",
        "    # Display the filters in a 4 x 4 arrangement\n",
        "    ax= plt.subplot(4, 4, counter )\n",
        "    ax.set_xticks([])\n",
        "    ax.set_yticks([])\n",
        "    plt.imshow(filt[:,:, 0], cmap='gray')\n",
        "    counter += 1\n",
        "plt.show()"
      ]
    },
    {
      "cell_type": "markdown",
      "metadata": {
        "id": "mx8wqvR6SvAZ"
      },
      "source": [
        "## Load the model for applications\n",
        "---\n",
        "When running the function that builds and trains the model we also export the model in a file named `\"handwritten_numbers_classification_model.h5\"`. This file contains all the parameters of the CNN resulting from the training process. Therefore, we can use this network for predicting new instances. This section explains how we can make use of this already trained network.\n",
        "\n",
        "Imagine that we want to classify a new image, like the one you see below.\n",
        "\n",
        "<img src=\"https://raw.githubusercontent.com/mariogutierrezroig/Teaching-Notebooks/main/Convolutional_Neural_Networks/sample_image.png\" alt=\"sample_image\" width=\"100\">\n",
        "\n",
        "The first thing we need to do is to pre-process the image in the same way that we have pre-processed the images in the `trainX` and `testX` datasets. We create a function that does this job given a filename (which should correspond to an image stored in the same working directory than the jupyter notebook). Unlike with the MNIST dataset, now we are loading the image from an external source rather than importing it from a package. The functions `load_img()` and `img_to_array()` will be particularly useful here (check its [documentation page](https://keras.io/api/preprocessing/image/))."
      ]
    },
    {
      "cell_type": "code",
      "execution_count": 16,
      "metadata": {
        "id": "nnxom-KrSvAZ"
      },
      "outputs": [],
      "source": [
        "from tensorflow.keras.preprocessing.image import load_img, img_to_array\n",
        "import numpy as np\n",
        "\n",
        "def load_image(filename):\n",
        "    # load the image\n",
        "    img = load_img(filename, color_mode = \"grayscale\", target_size=(28, 28))\n",
        "    # convert to array\n",
        "    img = img_to_array(img)\n",
        "    # reshape into a single sample with 1 channel\n",
        "    img = img.reshape(1, 28, 28, 1)\n",
        "    # prepare pixel data\n",
        "    img = img.astype('float32')\n",
        "    # Pixel normalisation; only values between 0 and 1\n",
        "    img = (img - np.min(img)) / (np.max(img) - np.min(img))\n",
        "    return img"
      ]
    },
    {
      "cell_type": "markdown",
      "metadata": {
        "id": "AtoW4BZRSvAZ"
      },
      "source": [
        "This function will give us the image in the format we need. Then we only need to load our model, using `load_model()`, and predict the class for that image, the attribute `model.predict_classes()` will work for this particular CNN."
      ]
    },
    {
      "cell_type": "code",
      "execution_count": 21,
      "metadata": {
        "id": "c23WLczXSvAZ",
        "outputId": "c1da3c4a-6cff-4ca3-d9ba-42add859e06c",
        "colab": {
          "base_uri": "https://localhost:8080/"
        }
      },
      "outputs": [
        {
          "output_type": "stream",
          "name": "stderr",
          "text": [
            "WARNING:absl:Compiled the loaded model, but the compiled metrics have yet to be built. `model.compile_metrics` will be empty until you train or evaluate the model.\n"
          ]
        },
        {
          "output_type": "stream",
          "name": "stdout",
          "text": [
            "\u001b[1m1/1\u001b[0m \u001b[32m━━━━━━━━━━━━━━━━━━━━\u001b[0m\u001b[37m\u001b[0m \u001b[1m0s\u001b[0m 480ms/step\n",
            "7\n"
          ]
        }
      ],
      "source": [
        "from tensorflow.keras.models import load_model\n",
        "\n",
        "def new_prediction(filename):\n",
        "    # load the image\n",
        "    img = load_image(filename)\n",
        "    # load model\n",
        "    model = load_model('handwritten_numbers_classification_model.h5')\n",
        "    # make the prediction, this outputs the probability for each category\n",
        "    digit = model.predict(img)\n",
        "    # print the category using argmax\n",
        "    print(np.argmax(digit))\n",
        "\n",
        "new_prediction('sample_image.png')"
      ]
    },
    {
      "cell_type": "markdown",
      "metadata": {
        "id": "eRamwFnqSvAZ"
      },
      "source": [
        "As you can see, our model should correctly guess it most of the times. __Congratulations! You have successfully train a Convolutional Neural Network that is able to predict handwritten numbers!__\n",
        "\n",
        "If you really want to test the model by yourselves, you can also use 28 x 28 pixel images with a number drawn in it using Photoshop or equivalent software. Alternatively, you can draw digit numbers in a piece of paper, take a picture, shrink the image to a 28 x 28 picture and convert it to a greyscale where the background is black. Your network should also be able to produce good predictions on your own handwritten numbers. In fact, there are many [online websites](http://www.ccom.ucsd.edu/~cdeotte/programs/MNIST.html) that provide a front-end to draw a number and use a CNN to classify it. This is not far from your own skills right now!"
      ]
    },
    {
      "cell_type": "markdown",
      "metadata": {
        "id": "rr4A0U9wSvAa"
      },
      "source": [
        "<div class=\"alert alert-block alert-info\"><b>Exercise 3:</b><br>I have written a bunch of numbers on my notebook and taken a picture:<br><br><img src=\"https://raw.githubusercontent.com/mariogutierrezroig/Teaching-Notebooks/main/Convolutional_Neural_Networks/numbers_in_a_notebook.png\" style=\"width: 400px\"><br><br>Can you make an algorithm able to read them?<br><br><i>Hints: The python pillow (PIL) library will be useful here. You will need to <a href=\"https://pillow.readthedocs.io/en/stable/reference/Image.html#PIL.Image.Image.crop\">crop</a> the original image multiple times in order to extract each digit individually. Then you will also need to <a href=\"https://pillow.readthedocs.io/en/stable/reference/Image.html#PIL.Image.Image.thumbnail\">resize</a> the cropped image, so it has the same 28x28 pixel proportion than the training data, and <a href=\"https://stackoverflow.com/questions/2498875/how-to-invert-colors-of-image-with-pil-python-imaging\">invert its colors</a> before saving it as a separate file. You can then use the load_image() function we created before and run the normal prediction.</i></div>"
      ]
    },
    {
      "cell_type": "code",
      "execution_count": 29,
      "metadata": {
        "id": "F2-K8T5NSvAa",
        "outputId": "2740c8a8-41d8-4190-ab10-fb517455a9dd",
        "colab": {
          "base_uri": "https://localhost:8080/",
          "height": 413
        }
      },
      "outputs": [
        {
          "output_type": "stream",
          "name": "stderr",
          "text": [
            "WARNING:absl:Compiled the loaded model, but the compiled metrics have yet to be built. `model.compile_metrics` will be empty until you train or evaluate the model.\n"
          ]
        },
        {
          "output_type": "stream",
          "name": "stdout",
          "text": [
            "\u001b[1m1/1\u001b[0m \u001b[32m━━━━━━━━━━━━━━━━━━━━\u001b[0m\u001b[37m\u001b[0m \u001b[1m0s\u001b[0m 255ms/step\n",
            "Digit 1: Predicted 3 with confidence 0.42\n",
            "\u001b[1m1/1\u001b[0m \u001b[32m━━━━━━━━━━━━━━━━━━━━\u001b[0m\u001b[37m\u001b[0m \u001b[1m0s\u001b[0m 47ms/step\n",
            "Digit 2: Predicted 3 with confidence 0.38\n",
            "\u001b[1m1/1\u001b[0m \u001b[32m━━━━━━━━━━━━━━━━━━━━\u001b[0m\u001b[37m\u001b[0m \u001b[1m0s\u001b[0m 29ms/step\n",
            "Digit 3: Predicted 3 with confidence 0.59\n",
            "\u001b[1m1/1\u001b[0m \u001b[32m━━━━━━━━━━━━━━━━━━━━\u001b[0m\u001b[37m\u001b[0m \u001b[1m0s\u001b[0m 28ms/step\n",
            "Digit 4: Predicted 3 with confidence 0.45\n",
            "\u001b[1m1/1\u001b[0m \u001b[32m━━━━━━━━━━━━━━━━━━━━\u001b[0m\u001b[37m\u001b[0m \u001b[1m0s\u001b[0m 31ms/step\n",
            "Digit 5: Predicted 3 with confidence 0.42\n",
            "\u001b[1m1/1\u001b[0m \u001b[32m━━━━━━━━━━━━━━━━━━━━\u001b[0m\u001b[37m\u001b[0m \u001b[1m0s\u001b[0m 29ms/step\n",
            "Digit 6: Predicted 3 with confidence 0.49\n",
            "\u001b[1m1/1\u001b[0m \u001b[32m━━━━━━━━━━━━━━━━━━━━\u001b[0m\u001b[37m\u001b[0m \u001b[1m0s\u001b[0m 28ms/step\n",
            "Digit 7: Predicted 3 with confidence 0.47\n"
          ]
        },
        {
          "output_type": "display_data",
          "data": {
            "text/plain": [
              "<Figure size 640x480 with 7 Axes>"
            ],
            "image/png": "[encoded data removed]"
          },
          "metadata": {}
        }
      ],
      "source": [
        "### EXERCISE 3 SOLUTION ###\n",
        "\n",
        "from PIL import Image, ImageOps\n",
        "import numpy as np\n",
        "import matplotlib.pyplot as plt\n",
        "from tensorflow.keras.models import load_model\n",
        "\n",
        "# Load model (make sure the h5 file is in the same directory)\n",
        "model = load_model('advanced_handwritten_digits_model.h5')\n",
        "\n",
        "# Load the full image\n",
        "img = Image.open('numbers_in_a_notebook.png')\n",
        "\n",
        "# === Step 1: Define bounding boxes for each digit (crop coordinates) ===\n",
        "# Format: (left, upper, right, lower) — manually estimated\n",
        "boxes = [\n",
        "    (75, 80, 125, 135),   # 0 - slightly expanded from original (80, 90, 120, 130)\n",
        "    (125, 80, 175, 135),  # 9 - slightly expanded from original (130, 90, 170, 130)\n",
        "    (175, 75, 225, 135),  # 7 - slightly expanded from original (180, 85, 220, 130)\n",
        "    (120, 130, 170, 190), # 4 - slightly adjusted from original (125, 140, 165, 185)\n",
        "    (175, 135, 220, 190), # 1 - slightly adjusted from original (180, 145, 215, 185)\n",
        "    (75, 180, 125, 235),  # 3 - slightly adjusted from original (80, 190, 120, 230)\n",
        "    (130, 185, 175, 235), # 2 - slightly adjusted from original (135, 195, 170, 230)\n",
        "]\n",
        "\n",
        "# === Step 2: Process each cropped digit ===\n",
        "def preprocess_digit(crop):\n",
        "    crop = crop.convert(\"L\")                       # Grayscale\n",
        "    crop = ImageOps.invert(crop)                   # Invert colors\n",
        "    crop = crop.resize((28, 28), Image.Resampling.LANCZOS)\n",
        "    img_array = np.array(crop).astype('float32') / 255\n",
        "    img_array = img_array.reshape(1, 28, 28, 1)\n",
        "    return img_array\n",
        "\n",
        "# === Step 3: Predict digits ===\n",
        "for i, box in enumerate(boxes):\n",
        "    cropped = img.crop(box)\n",
        "    processed = preprocess_digit(cropped)\n",
        "    prediction = model.predict(processed)\n",
        "    predicted_digit = np.argmax(prediction)\n",
        "    confidence = np.max(prediction)\n",
        "    print(f\"Digit {i+1}: Predicted {predicted_digit} with confidence {confidence:.2f}\")\n",
        "    plt.subplot(1, len(boxes), i+1)\n",
        "    plt.imshow(cropped)\n",
        "    plt.axis('off')\n",
        "    plt.title(str(predicted_digit))\n",
        "\n",
        "plt.show()\n",
        "\n"
      ]
    },
    {
      "cell_type": "markdown",
      "metadata": {
        "id": "8ccB8dG-SvAa"
      },
      "source": [
        "<div class=\"alert alert-block alert-info\"><b>Exercise 4: (Optional)</b><br>So far we have used the MNIST dataset only for digits. However, there is and extended version of the dataset called <a href=\"https://www.nist.gov/itl/products-and-services/emnist-dataset\">EMNIST</a> that constains characters as well as numbers. Use this dataset, <a href=\"https://moodle.essex.ac.uk/course/view.php?id=15076&section=13\">available to download in Moodle</a>, to train a CNN and successfully read (with at least 70% success) the following photo from a handwritten text:<br><br> <img src=\"https://raw.githubusercontent.com/mariogutierrezroig/Teaching-Notebooks/main/Convolutional_Neural_Networks/DATASCIENCEISFUN.png\" style=\"width: 600px\"><br><br>Alternatively, you can also try to handwrite something on your own, take a picture, and make the CNN read your own words.<br><br><i>Hints: There are several things you should consider for such an endeavour.\n",
        "<ol>\n",
        "  <li>First, is that loading the EMNIST dataset is going to be different than with MNIST since it is not part of the keras built-in datasets. Use the function below to load and pre-process (basically flip and rotate) the EMNIST training and testing datasets, so that you end up with objects of the exact same format than in MNIST. Please, be aware that you need to download the \".zip\" file and decompress it in the same directory than the jupyter notebook.</li>\n",
        "  <li>In the decompressed folder called \"emnist-balanced\" you will find the CSVs with the train and test datasets, alongside the mapping.txt file, which contains the categories for the characters. Once a class is predicted, use chr(mapping(predicted_class)) in order to obtain the actual predicted character.</li>\n",
        "  <li>As for the architecture of the CNN, you are very welcome to try your own ideas, but it is always worth to <a href=\"https://www.kaggle.com/crawford/emnist/code?datasetId=7160&sortBy=voteCount\">check architectures that have already proved successful when trained on this dataset</a>.</li>\n",
        "  <li>Like in the previous exercise, you will also need to <a href=\"https://pillow.readthedocs.io/en/stable/reference/Image.html#PIL.Image.Image.crop\">crop</a>, <a href=\"https://pillow.readthedocs.io/en/stable/reference/Image.html#PIL.Image.Image.thumbnail\">resize</a>, and <a href=\"https://stackoverflow.com/questions/2498875/how-to-invert-colors-of-image-with-pil-python-imaging\">invert image's colors</a>, before saving each letter in a separated file.</li>\n",
        "  <li>The cropping points for extracting the letters can be adjusted manually. One useful trick for this it is to resize the whole image to 28-pixel height and select only the points along the x-axis. Make sure that only the letter of interest is visible when you crop from the original image.</li>\n",
        "</ol></i></div>"
      ]
    },
    {
      "cell_type": "code",
      "execution_count": 34,
      "metadata": {
        "id": "cgixxB50SvAa",
        "outputId": "53e8848a-83f2-411b-e6eb-104bc45dc7cb",
        "colab": {
          "base_uri": "https://localhost:8080/",
          "height": 433
        }
      },
      "outputs": [
        {
          "output_type": "display_data",
          "data": {
            "text/plain": [
              "<Figure size 640x480 with 9 Axes>"
            ],
            "image/png": "[encoded data removed]"
          },
          "metadata": {}
        }
      ],
      "source": [
        "### USE THIS FOR EXERCISE 4 SOLUTION ###\n",
        "\n",
        "import pandas as pd\n",
        "import numpy as np\n",
        "\n",
        "def load_emnist(show_example=True):\n",
        "    \"\"\"\n",
        "    Loads EMNIST dataset, preprocess the data and splits it\n",
        "    in train_x, train_y, test_x, test_y & mapping.\n",
        "    \"\"\"\n",
        "\n",
        "    train = pd.read_csv(\"/content/emnist-balanced-train.csv\",delimiter = ',')\n",
        "    test = pd.read_csv(\"/content/emnist-balanced-test.csv\", delimiter = ',')\n",
        "    mapping = pd.read_csv(\"/content/emnist-balanced-mapping.txt\", delimiter = ' ', index_col=0, header=None)\n",
        "\n",
        "    # Split x and y\n",
        "    train_x = train.iloc[:,1:]\n",
        "    train_y = train.iloc[:,0]\n",
        "    test_x = test.iloc[:,1:]\n",
        "    test_y = test.iloc[:,0]\n",
        "\n",
        "    # Flip and rotate image\n",
        "    def rotate(image):\n",
        "        image = image.reshape([28, 28])\n",
        "        image = np.fliplr(image)\n",
        "        image = np.rot90(image)\n",
        "        return image\n",
        "\n",
        "    train_x = np.asarray(train_x)\n",
        "    train_x = np.apply_along_axis(rotate, 1, train_x)\n",
        "    test_x = np.asarray(test_x)\n",
        "    test_x = np.apply_along_axis(rotate, 1, test_x)\n",
        "\n",
        "    # Normalise\n",
        "    train_x = train_x.astype('float32')\n",
        "    train_x /= 255\n",
        "    test_x = test_x.astype('float32')\n",
        "    test_x /= 255\n",
        "\n",
        "    if show_example:\n",
        "        for i in range(0,9):\n",
        "            # define subplot\n",
        "            plt.subplot(330 + 1 + i)\n",
        "            # plot raw pixel data\n",
        "            plt.imshow(train_x[i], cmap=plt.get_cmap('gray'))\n",
        "        # show the figure\n",
        "        plt.show()\n",
        "\n",
        "    train_x = train_x.reshape((train_x.shape[0], 28, 28, 1))\n",
        "    test_x = test_x.reshape((test_x.shape[0], 28, 28, 1))\n",
        "    train_y = to_categorical(train_y)\n",
        "    test_y = to_categorical(test_y)\n",
        "\n",
        "    return train_x, train_y, test_x, test_y, mapping\n",
        "\n",
        "# Load the dataset\n",
        "train_x, train_y, test_x, test_y, mapping = load_emnist(show_example=True)"
      ]
    },
    {
      "cell_type": "code",
      "execution_count": 41,
      "metadata": {
        "id": "R0Re69TbSvAa"
      },
      "outputs": [],
      "source": [
        "from PIL import Image, ImageOps\n",
        "import numpy as np\n",
        "import matplotlib.pyplot as plt\n",
        "import os\n",
        "\n",
        "def segment_and_predict(image_path, model, mapping, debug=False):\n",
        "    # Load and preprocess image\n",
        "    original = Image.open(image_path).convert(\"L\")\n",
        "    image = ImageOps.invert(original)\n",
        "    image = np.array(image)\n",
        "\n",
        "    # Binarize image\n",
        "    threshold = 100\n",
        "    binary_image = (image > threshold).astype(np.uint8)\n",
        "\n",
        "    # Sum pixels vertically to detect columns with content\n",
        "    column_sums = binary_image.sum(axis=0)\n",
        "\n",
        "    # Identify character regions\n",
        "    character_boundaries = []\n",
        "    in_char = False\n",
        "    start = 0\n",
        "\n",
        "    for i, col_sum in enumerate(column_sums):\n",
        "        if col_sum > 0 and not in_char:\n",
        "            in_char = True\n",
        "            start = i\n",
        "        elif col_sum == 0 and in_char:\n",
        "            in_char = False\n",
        "            end = i\n",
        "            if end - start > 2:  # filter out noise\n",
        "                character_boundaries.append((start, end))\n",
        "\n",
        "    predictions = []\n",
        "\n",
        "    for i, (start, end) in enumerate(character_boundaries):\n",
        "        char_crop = image[:, start:end]  # Crop character horizontally\n",
        "        char_image = Image.fromarray(char_crop).resize((28, 28))\n",
        "        char_image = np.array(char_image).astype(\"float32\") / 255.0\n",
        "        char_image = char_image.reshape(1, 28, 28, 1)\n",
        "\n",
        "        prediction = model.predict(char_image)\n",
        "        pred_class = np.argmax(prediction)\n",
        "        pred_char = chr(mapping.loc[pred_class].values[0])\n",
        "        predictions.append(pred_char)\n",
        "\n",
        "        if debug:\n",
        "            plt.subplot(1, len(character_boundaries), i + 1)\n",
        "            plt.imshow(char_crop, cmap='gray')\n",
        "            plt.title(pred_char)\n",
        "            plt.axis('off')\n",
        "\n",
        "    if debug:\n",
        "        plt.tight_layout()\n",
        "        plt.show()\n",
        "\n",
        "    return \"\".join(predictions)\n"
      ]
    },
    {
      "cell_type": "code",
      "source": [
        "result = segment_and_predict(\"/content/data_science_is_fun.png\", model, mapping, debug=True)\n",
        "print(\"Predicted text:\", result)\n"
      ],
      "metadata": {
        "id": "NT0uprhxiXAr",
        "outputId": "ec4561ad-9b05-4dc6-e48d-e9f4ebf3a6e1",
        "colab": {
          "base_uri": "https://localhost:8080/",
          "height": 495
        }
      },
      "execution_count": 43,
      "outputs": [
        {
          "output_type": "stream",
          "name": "stdout",
          "text": [
            "\u001b[1m1/1\u001b[0m \u001b[32m━━━━━━━━━━━━━━━━━━━━\u001b[0m\u001b[37m\u001b[0m \u001b[1m0s\u001b[0m 72ms/step\n",
            "\u001b[1m1/1\u001b[0m \u001b[32m━━━━━━━━━━━━━━━━━━━━\u001b[0m\u001b[37m\u001b[0m \u001b[1m0s\u001b[0m 43ms/step\n",
            "\u001b[1m1/1\u001b[0m \u001b[32m━━━━━━━━━━━━━━━━━━━━\u001b[0m\u001b[37m\u001b[0m \u001b[1m0s\u001b[0m 61ms/step\n",
            "\u001b[1m1/1\u001b[0m \u001b[32m━━━━━━━━━━━━━━━━━━━━\u001b[0m\u001b[37m\u001b[0m \u001b[1m0s\u001b[0m 40ms/step\n",
            "\u001b[1m1/1\u001b[0m \u001b[32m━━━━━━━━━━━━━━━━━━━━\u001b[0m\u001b[37m\u001b[0m \u001b[1m0s\u001b[0m 44ms/step\n",
            "\u001b[1m1/1\u001b[0m \u001b[32m━━━━━━━━━━━━━━━━━━━━\u001b[0m\u001b[37m\u001b[0m \u001b[1m0s\u001b[0m 43ms/step\n",
            "\u001b[1m1/1\u001b[0m \u001b[32m━━━━━━━━━━━━━━━━━━━━\u001b[0m\u001b[37m\u001b[0m \u001b[1m0s\u001b[0m 41ms/step\n",
            "\u001b[1m1/1\u001b[0m \u001b[32m━━━━━━━━━━━━━━━━━━━━\u001b[0m\u001b[37m\u001b[0m \u001b[1m0s\u001b[0m 41ms/step\n",
            "\u001b[1m1/1\u001b[0m \u001b[32m━━━━━━━━━━━━━━━━━━━━\u001b[0m\u001b[37m\u001b[0m \u001b[1m0s\u001b[0m 44ms/step\n",
            "\u001b[1m1/1\u001b[0m \u001b[32m━━━━━━━━━━━━━━━━━━━━\u001b[0m\u001b[37m\u001b[0m \u001b[1m0s\u001b[0m 49ms/step\n",
            "\u001b[1m1/1\u001b[0m \u001b[32m━━━━━━━━━━━━━━━━━━━━\u001b[0m\u001b[37m\u001b[0m \u001b[1m0s\u001b[0m 43ms/step\n",
            "\u001b[1m1/1\u001b[0m \u001b[32m━━━━━━━━━━━━━━━━━━━━\u001b[0m\u001b[37m\u001b[0m \u001b[1m0s\u001b[0m 45ms/step\n",
            "\u001b[1m1/1\u001b[0m \u001b[32m━━━━━━━━━━━━━━━━━━━━\u001b[0m\u001b[37m\u001b[0m \u001b[1m0s\u001b[0m 47ms/step\n",
            "\u001b[1m1/1\u001b[0m \u001b[32m━━━━━━━━━━━━━━━━━━━━\u001b[0m\u001b[37m\u001b[0m \u001b[1m0s\u001b[0m 46ms/step\n",
            "\u001b[1m1/1\u001b[0m \u001b[32m━━━━━━━━━━━━━━━━━━━━\u001b[0m\u001b[37m\u001b[0m \u001b[1m0s\u001b[0m 43ms/step\n",
            "\u001b[1m1/1\u001b[0m \u001b[32m━━━━━━━━━━━━━━━━━━━━\u001b[0m\u001b[37m\u001b[0m \u001b[1m0s\u001b[0m 30ms/step\n"
          ]
        },
        {
          "output_type": "display_data",
          "data": {
            "text/plain": [
              "<Figure size 640x480 with 16 Axes>"
            ],
            "image/png": "[encoded data removed]"
          },
          "metadata": {}
        },
        {
          "output_type": "stream",
          "name": "stdout",
          "text": [
            "Predicted text: DATASCqEMCEaSTPM\n"
          ]
        }
      ]
    },
    {
      "cell_type": "markdown",
      "metadata": {
        "id": "YTmq3RQQSvAa"
      },
      "source": [
        "---\n",
        "<div style=\"text-align: right ;font-size: small; color: gray\"> Notebook by <a href=\"http://mariogutierrezroig.net\">Mario Gutiérrez-Roig</a>, Lecturer in Data Science and Statistics at the University of Essex <a href=\"http://creativecommons.org/licenses/by-sa/4.0/\" rel=\"license\"><img src=\"https://i.creativecommons.org/l/by-sa/4.0/88x31.png\" alt=\"Licencia de Creative Commons\" hspace=\"10\" align=\"right\"></a></div>"
      ]
    }
  ],
  "metadata": {
    "kernelspec": {
      "display_name": "Python 3",
      "name": "python3"
    },
    "language_info": {
      "codemirror_mode": {
        "name": "ipython",
        "version": 3
      },
      "file_extension": ".py",
      "mimetype": "text/x-python",
      "name": "python",
      "nbconvert_exporter": "python",
      "pygments_lexer": "ipython3",
      "version": "3.8.13"
    },
    "colab": {
      "provenance": [],
      "gpuType": "T4"
    },
    "accelerator": "GPU"
  },
  "nbformat": 4,
  "nbformat_minor": 0
}